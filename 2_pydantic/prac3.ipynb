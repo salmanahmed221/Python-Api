{
 "cells": [
  {
   "cell_type": "code",
   "execution_count": 3,
   "metadata": {},
   "outputs": [
    {
     "name": "stdout",
     "output_type": "stream",
     "text": [
      "datetime.datetime(2020, 1, 2, 3, 4, 5, tzinfo=TzInfo(UTC))\n",
      "(10, 20)\n"
     ]
    }
   ],
   "source": [
    "from datetime import datetime\n",
    "from typing import Tuple\n",
    "\n",
    "from pydantic import BaseModel\n",
    "\n",
    "\n",
    "class Delivery(BaseModel):\n",
    "    timestamp: datetime\n",
    "    dimensions: Tuple[int, int]\n",
    "\n",
    "\n",
    "m = Delivery(timestamp='2020-01-02T03:04:05Z', dimensions=[10, '20'])\n",
    "print(repr(m.timestamp))\n",
    "#> datetime.datetime(2020, 1, 2, 3, 4, 5, tzinfo=TzInfo(UTC))\n",
    "print(m.dimensions)"
   ]
  },
  {
   "cell_type": "code",
   "execution_count": 4,
   "metadata": {},
   "outputs": [
    {
     "name": "stdout",
     "output_type": "stream",
     "text": [
      "number=[4, 16]\n",
      "1 validation error for DemoModel\n",
      "number.1\n",
      "  Assertion failed, 8 is not a square number [type=assertion_error, input_value=4, input_type=int]\n",
      "    For further information visit https://errors.pydantic.dev/2.4/v/assertion_error\n"
     ]
    }
   ],
   "source": [
    "from typing import Any, List\n",
    "\n",
    "from typing_extensions import Annotated\n",
    "\n",
    "from pydantic import BaseModel, ValidationError\n",
    "from pydantic.functional_validators import AfterValidator\n",
    "\n",
    "\n",
    "def check_squares(v: int) -> int:\n",
    "    assert v**0.5 % 1 == 0, f'{v} is not a square number'\n",
    "    return v\n",
    "\n",
    "\n",
    "def double(v: Any) -> Any:\n",
    "    return v * 2\n",
    "\n",
    "\n",
    "MyNumber = Annotated[int, AfterValidator(double), AfterValidator(check_squares)]\n",
    "\n",
    "\n",
    "class DemoModel(BaseModel):\n",
    "    number: List[MyNumber]\n",
    "\n",
    "\n",
    "print(DemoModel(number=[2, 8]))\n",
    "#> number=[4, 16]\n",
    "try:\n",
    "    DemoModel(number=[2, 4])\n",
    "except ValidationError as e:\n",
    "    print(e)"
   ]
  },
  {
   "cell_type": "code",
   "execution_count": 9,
   "metadata": {},
   "outputs": [
    {
     "data": {
      "text/plain": [
       "Blog(title='hi234', is_active=False)"
      ]
     },
     "execution_count": 9,
     "metadata": {},
     "output_type": "execute_result"
    }
   ],
   "source": [
    "from pydantic import BaseModel, Field\n",
    "\n",
    "class Blog(BaseModel):\n",
    "    title: str = Field(...,min_length=5)\n",
    "    is_active: bool\n",
    "\n",
    "Blog(title=\"hi234\",is_active=False)\n",
    "Blog(title=\"hi\",is_active=False) # Error\n"
   ]
  }
 ],
 "metadata": {
  "kernelspec": {
   "display_name": "py12",
   "language": "python",
   "name": "python3"
  },
  "language_info": {
   "codemirror_mode": {
    "name": "ipython",
    "version": 3
   },
   "file_extension": ".py",
   "mimetype": "text/x-python",
   "name": "python",
   "nbconvert_exporter": "python",
   "pygments_lexer": "ipython3",
   "version": "3.12.0"
  }
 },
 "nbformat": 4,
 "nbformat_minor": 2
}
